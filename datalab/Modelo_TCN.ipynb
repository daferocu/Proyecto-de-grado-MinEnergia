{
 "cells": [
  {
   "cell_type": "markdown",
   "metadata": {},
   "source": [
    "# Proyección de Compontentes del Costo Unitario"
   ]
  },
  {
   "cell_type": "markdown",
   "metadata": {},
   "source": [
    "## 1. Introducción\n",
    "__________________________________________________________________________________________________________________________"
   ]
  },
  {
   "cell_type": "markdown",
   "metadata": {},
   "source": [
    "Poyección de costo unitario de energía eléctrica en Colombia utilizando el modelo TCN (Temporal Convolucional Network), que es una red neuronal diseñada para manejar series de tiempo. Utiliza convoluciones dilatadas en lugar de capas recurrentes, lo que le permite capturar patrones de largo alcance en los datos de series temporales de manera eficiente."
   ]
  },
  {
   "cell_type": "markdown",
   "metadata": {},
   "source": [
    "1.1. Consideraciones para la construcción del modelo de proyección componentes del costo unitario"
   ]
  }
 ],
 "metadata": {
  "language_info": {
   "name": "python"
  }
 },
 "nbformat": 4,
 "nbformat_minor": 2
}
