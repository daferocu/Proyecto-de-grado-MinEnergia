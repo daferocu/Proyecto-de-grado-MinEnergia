{
  "cells": [
    {
      "cell_type": "markdown",
      "metadata": {
        "id": "view-in-github",
        "colab_type": "text"
      },
      "source": [
        "<a href=\"https://colab.research.google.com/github/daferocu/Proyecto-de-grado-MinEnergia/blob/develop/datalab/Modelo_TCN.ipynb\" target=\"_parent\"><img src=\"https://colab.research.google.com/assets/colab-badge.svg\" alt=\"Open In Colab\"/></a>"
      ]
    },
    {
      "cell_type": "markdown",
      "metadata": {
        "id": "tdieGnOW9SvF"
      },
      "source": [
        "# Proyección de Compontentes del Costo Unitario"
      ]
    },
    {
      "cell_type": "markdown",
      "metadata": {
        "id": "36PnCjk49SvI"
      },
      "source": [
        "## 1. Introducción\n",
        "__________________________________________________________________________________________________________________________"
      ]
    },
    {
      "cell_type": "markdown",
      "metadata": {
        "id": "EiHgbimH9SvI"
      },
      "source": [
        "Proyección de costo unitario de energía eléctrica en Colombia utilizando el modelo TCN (Temporal Convolucional Network), que es una red neuronal diseñada para manejar series de tiempo. Utiliza convoluciones dilatadas en lugar de capas recurrentes, lo que le permite capturar patrones de largo alcance en los datos de series temporales de manera eficiente."
      ]
    },
    {
      "cell_type": "markdown",
      "metadata": {
        "id": "ouDkh6SO9SvI"
      },
      "source": [
        "**1.1 Consideraciones para la construcción del modelo de proyección componentes del costo unitario**\n",
        "\n"
      ]
    },
    {
      "cell_type": "markdown",
      "metadata": {
        "id": "DHbdrBeU9SvJ"
      },
      "source": [
        "Las siguientes son las consideraciones que fueron determinadas por el equipo de trabajo para la construcción del modelo:\n",
        "\n",
        "* Se determina que los cargos horarios a tener en cuenta de las tarifas de energía son los cargo horario monomio.\n",
        "* Se garantiza que el nivel de tensión corresponde a la línea residencial, es decir, Nivel de tensión 1-100 NT1 Propiedad OR.\n",
        "* Se valida que todos los mercados contengan un prestador que sea incumbente.\n",
        "* Métricas horarias para Precio de Bolsa.\n",
        "* Aporte hídrico métrica periodicidad diaria.\n",
        "* Capacidad efectiva neta periodicidad diaria."
      ]
    },
    {
      "cell_type": "markdown",
      "metadata": {
        "id": "T9jQt4vh9SvJ"
      },
      "source": [
        "**Paso 1:** Importe de librerias.\n",
        "\n",
        "A continuación, importaremos las librerias necesarias para el proyecto."
      ]
    },
    {
      "cell_type": "code",
      "execution_count": null,
      "metadata": {
        "id": "-pOR-LpZ9SvJ"
      },
      "outputs": [],
      "source": [
        "#Importación de librerias\n",
        "\n",
        "import pandas as pd # Importa la librería pandas para manipulación y análisis de datos\n",
        "import seaborn # Importa seaborn para visualización de datos estadísticos\n",
        "import pyarrow # Importa pyarrow para manejar y leer archivos en formato Apache Arrow\n",
        "import openpyxl # Importa openpyxl para leer y escribir archivos Excel en formato .xlsx\n",
        "import os # Importa os para interactuar con el sistema operativo (por ejemplo, manejar rutas de archivos)\n"
      ]
    },
    {
      "cell_type": "markdown",
      "metadata": {
        "id": "GdxEjhQ59SvL"
      },
      "source": [
        "**Paso 2:** Carga de datos.\n",
        "\n",
        "A continuación, realizaremos la carga de datos desde la ruta que se encuentra en el mismo repositorio que esta este notebook. (/data/raw)"
      ]
    },
    {
      "cell_type": "code",
      "execution_count": null,
      "metadata": {
        "id": "O8LeN1yk9SvL",
        "outputId": "1c35236b-c920-42af-bbb9-e63c3d914a56"
      },
      "outputs": [
        {
          "name": "stdout",
          "output_type": "stream",
          "text": [
            "/Users/dakri/Documents/Maestría/Tercer Semestre/Proyecto de Grado/Git/poc-071-minenergia-prediccion-costo-unitario-fase1/datalab\n"
          ]
        }
      ],
      "source": [
        "#carga de datos\n",
        "ruta_principal = os.getcwd()\n",
        "print(ruta_principal)\n",
        "#carpeta_data = os.path.join(ruta_principal, 'data')\n",
        "carpeta_padre = os.path.dirname(ruta_principal)\n",
        "carpeta_data = f\"{carpeta_padre}/data/raw\"\n",
        "\n",
        "###########################################################\n",
        "\n",
        "#Carga el archivo CSV 'componentes_tarifas_energia.csv'\n",
        "#Utiliza el carácter '|' como separador\n",
        "base_componentes = pd.read_csv(f\"{carpeta_data}/componentes_tarifas_energia.csv\", sep= '|')\n",
        "\n",
        "#Carga el archivo CSV 'precio_de_bolsa.csv'\n",
        "#Utiliza el carácter '|' como separador\n",
        "precio_de_bolsa = pd.read_csv(f\"{carpeta_data}/precio_de_bolsa.csv\", sep='|')\n",
        "\n",
        "# Carga el archivo CSV 'aportes_hidricos.csv'\n",
        "# Utiliza el carácter '|' como separador\n",
        "aportes_hidricos = pd.read_csv(f\"{carpeta_data}/aportes_hidricos.csv\", sep='|')\n",
        "\n",
        "# Carga el archivo CSV 'capacidad.csv'\n",
        "# Utiliza el carácter '|' como separador\n",
        "capacidad = pd.read_csv(f\"{carpeta_data}/capacidad.csv\", sep='|')\n",
        "\n",
        "# Carga el archivo Excel 'TRM.xlsx'\n",
        "# Usa el motor 'openpyxl' para leer archivos Excel con extensión .xlsx\n",
        "datos_trm = pd.read_excel(f\"{carpeta_data}/TRM.xlsx\", engine='openpyxl')\n",
        "\n",
        "# Carga el archivo Excel 'IPC_Indices.xlsx'\n",
        "# Usa el motor 'openpyxl' para leer archivos Excel con extensión .xlsx\n",
        "# Específica la hoja 'IPC' dentro del archivo Excel\n",
        "datos_ipc = pd.read_excel(f\"{carpeta_data}/IPC_Indices.xlsx\", engine='openpyxl', sheet_name=\"IPC\")\n",
        "\n",
        "# Carga el archivo Excel 'IPP_Indices.xlsx' desde la carpeta especificada\n",
        "# Usa el motor 'openpyxl' para leer archivos Excel con extensión .xlsx\n",
        "# Específica la hoja 'IPP' dentro del archivo Excel\n",
        "datos_ipp = pd.read_excel(f\"{carpeta_data}/IPP_Indices.xlsx\", engine='openpyxl', sheet_name=\"IPP\")\n"
      ]
    },
    {
      "cell_type": "code",
      "execution_count": null,
      "metadata": {
        "id": "eVOCVVVx9SvM"
      },
      "outputs": [],
      "source": []
    }
  ],
  "metadata": {
    "kernelspec": {
      "display_name": "Python 3",
      "language": "python",
      "name": "python3"
    },
    "language_info": {
      "codemirror_mode": {
        "name": "ipython",
        "version": 3
      },
      "file_extension": ".py",
      "mimetype": "text/x-python",
      "name": "python",
      "nbconvert_exporter": "python",
      "pygments_lexer": "ipython3",
      "version": "3.11.5"
    },
    "colab": {
      "provenance": [],
      "include_colab_link": true
    }
  },
  "nbformat": 4,
  "nbformat_minor": 0
}