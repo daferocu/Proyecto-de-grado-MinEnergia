{
 "cells": [
  {
   "cell_type": "markdown",
   "metadata": {
    "id": "dHZRuSdl3c-E"
   },
   "source": [
    "## Introduction (5 mts)"
   ]
  },
  {
   "cell_type": "markdown",
   "metadata": {
    "id": "8-WpvMk13jnJ"
   },
   "source": [
    "**Business Context.** Explicacion del contesto de negocio por el cual se esta haciendo el jupyter\n",
    "\n",
    "**Business Problem.** Explicacion de la problematica a resolver\n",
    "\n",
    "**Analytical Context.** Explicacion del contexto de los datos para analisis"
   ]
  },
  {
   "cell_type": "markdown",
   "metadata": {
    "id": "y-ZotG743fOW"
   },
   "source": [
    " ## Setting up paths and python libraries"
   ]
  },
  {
   "cell_type": "code",
   "execution_count": 1,
   "metadata": {},
   "outputs": [
    {
     "name": "stdout",
     "output_type": "stream",
     "text": [
      "/Users/camilamv/Documents/CAOBA-CENTRAL/devsecops/centro-activo-monitoreo/poc-004-cam-bankinganalytics-fase1-stage/jupyter\n"
     ]
    }
   ],
   "source": [
    "!pwd"
   ]
  },
  {
   "cell_type": "code",
   "execution_count": 5,
   "metadata": {},
   "outputs": [
    {
     "name": "stdout",
     "output_type": "stream",
     "text": [
      "/Users/camilamv/Documents/CAOBA-CENTRAL/devsecops/centro-activo-monitoreo/poc-004-cam-bankinganalytics-fase1-stage\n",
      "/Users/camilamv/Documents/CAOBA-CENTRAL/devsecops/centro-activo-monitoreo/poc-004-cam-bankinganalytics-fase1-stage/conf/\n",
      "/Users/camilamv/Documents/CAOBA-CENTRAL/devsecops/centro-activo-monitoreo/poc-004-cam-bankinganalytics-fase1-stage/data/\n",
      "/Users/camilamv/Documents/CAOBA-CENTRAL/devsecops/centro-activo-monitoreo/poc-004-cam-bankinganalytics-fase1-stage/data//raw/\n",
      "/Users/camilamv/Documents/CAOBA-CENTRAL/devsecops/centro-activo-monitoreo/poc-004-cam-bankinganalytics-fase1-stage/data//stage/\n",
      "/Users/camilamv/Documents/CAOBA-CENTRAL/devsecops/centro-activo-monitoreo/poc-004-cam-bankinganalytics-fase1-stage/data//analytics/\n",
      "/Users/camilamv/Documents/CAOBA-CENTRAL/devsecops/centro-activo-monitoreo/poc-004-cam-bankinganalytics-fase1-stage/data//unnittest/\n",
      "/Users/camilamv/Documents/CAOBA-CENTRAL/devsecops/centro-activo-monitoreo/poc-004-cam-bankinganalytics-fase1-stage/docs/\n",
      "/Users/camilamv/Documents/CAOBA-CENTRAL/devsecops/centro-activo-monitoreo/poc-004-cam-bankinganalytics-fase1-stage/deploy/\n"
     ]
    }
   ],
   "source": [
    "# Opcion 1: Importando root.py del repositorio para uso de Paths establecidos\n",
    "import os\n",
    "import sys\n",
    "\n",
    "#Ruta o Path a cambiar de acuerdo al path de cada desarrollador\n",
    "path_local_dir=\"/Users/camilamv/Documents/CAOBA-CENTRAL/devsecops/centro-activo-monitoreo/poc-004-cam-bankinganalytics-fase1-stage/\"\n",
    "sys.path.append(path_local_dir)\n",
    "\n",
    "import root\n",
    "\n",
    "print(root.DIR_ROOT)\n",
    "print(root.DIR_CONF)\n",
    "print(root.DIR_DATA)\n",
    "print(root.DIR_DATA_RAW)\n",
    "print(root.DIR_DATA_STAGE)\n",
    "print(root.DIR_DATA_ANALYTICS)\n",
    "print(root.DIR_DATA_UNITTEST)\n",
    "print(root.DIR_DOCS)\n",
    "print(root.DIR_DEPLOY)"
   ]
  },
  {
   "cell_type": "markdown",
   "metadata": {},
   "source": [
    "## Links de apoyo:\n",
    "\n",
    "[Structuring Your Project in Python](https://docs.python-guide.org/writing/structure/)\n",
    "\n",
    "[Structuring your Python Project: Best practices from over 10 blogs](https://medium.com/analytics-vidhya/structuring-python-code-best-practices-from-over-10-blogs-2e33cbb83c49)\n",
    "\n",
    "[Reproducible Data Science Environment with conda](https://towardsdatascience.com/manage-data-science-and-machine-learning-environments-using-conda-42b9b2f0689a)"
   ]
  },
  {
   "cell_type": "markdown",
   "metadata": {},
   "source": [
    "## Load Libraries"
   ]
  },
  {
   "cell_type": "code",
   "execution_count": null,
   "metadata": {
    "colab": {
     "base_uri": "https://localhost:8080/"
    },
    "id": "bRSaRpme3Gw9",
    "outputId": "429ab7a0-4a64-478c-c972-f78a4761c3eb"
   },
   "outputs": [],
   "source": [
    "import pandas as pd\n",
    "import numpy  as np\n"
   ]
  },
  {
   "cell_type": "code",
   "execution_count": null,
   "metadata": {},
   "outputs": [],
   "source": []
  },
  {
   "cell_type": "markdown",
   "metadata": {
    "id": "mjwRCT6W3rBn"
   },
   "source": [
    "## Conclusions"
   ]
  },
  {
   "cell_type": "markdown",
   "metadata": {
    "id": "GMw2Gg-k4UpG"
   },
   "source": [
    "#### Explicacion de las conclusiones obtenidas en el analisis del notebooks"
   ]
  },
  {
   "cell_type": "code",
   "execution_count": null,
   "metadata": {},
   "outputs": [],
   "source": []
  },
  {
   "cell_type": "markdown",
   "metadata": {
    "id": "UM4kd5JF3txy"
   },
   "source": [
    "## Takeaways"
   ]
  },
  {
   "cell_type": "markdown",
   "metadata": {
    "id": "Gf8kJZs14cRj"
   },
   "source": [
    "#### Explicacion de pasos siguientes"
   ]
  },
  {
   "cell_type": "code",
   "execution_count": null,
   "metadata": {
    "id": "W59RlFGi4ebZ"
   },
   "outputs": [],
   "source": []
  },
  {
   "cell_type": "code",
   "execution_count": null,
   "metadata": {},
   "outputs": [],
   "source": []
  }
 ],
 "metadata": {
  "colab": {
   "name": "00Standard_Ref_to_make_Experiments.ipynb",
   "provenance": []
  },
  "kernelspec": {
   "display_name": "Python 3",
   "language": "python",
   "name": "python3"
  },
  "language_info": {
   "codemirror_mode": {
    "name": "ipython",
    "version": 3
   },
   "file_extension": ".py",
   "mimetype": "text/x-python",
   "name": "python",
   "nbconvert_exporter": "python",
   "pygments_lexer": "ipython3",
   "version": "3.7.0"
  }
 },
 "nbformat": 4,
 "nbformat_minor": 4
}
